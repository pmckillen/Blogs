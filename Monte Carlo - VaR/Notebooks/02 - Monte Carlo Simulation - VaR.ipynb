{
 "cells": [
  {
   "cell_type": "markdown",
   "metadata": {},
   "source": [
    "# Introduction\n",
    "\n",
    "Measurement of downside risk based on current value of a portfolio or security and expected volatility - expected return is optimal\n",
    "\n",
    "In addition, a time horizon is needed and a confidence level\n",
    "\n",
    "VaR allows an investor to make statements such as 99% confidence oevel losses will not exceed $XXX in the next days/weeks/months\n",
    "\n",
    "VaR has problems such as how large a loss can grow to if volatility moves past the confidence level"
   ]
  },
  {
   "cell_type": "code",
   "execution_count": null,
   "metadata": {},
   "outputs": [],
   "source": [
    "import numpy as np\n",
    "import pandas as pd\n",
    "import matplotlib.pyplot as plt\n",
    "\n",
    "%matplotlib inline\n",
    "\n",
    "# format for floats\n",
    "pd.options.display.float_format = '{:,.2f}'.format"
   ]
  },
  {
   "cell_type": "markdown",
   "metadata": {},
   "source": [
    "# Set some global variables"
   ]
  },
  {
   "cell_type": "code",
   "execution_count": null,
   "metadata": {},
   "outputs": [],
   "source": [
    "# Condifdence level\n",
    "CL = 0.95\n",
    "\n",
    "# Amount to invest\n",
    "pv = 100000\n",
    "\n",
    "# Volatility\n",
    "vol = 0.185\n",
    "\n",
    "# Time Horizon - 1 month - excluind weekends\n",
    "t = 21\n",
    "\n",
    "# Number of trading days in a year\n",
    "TRADING_DAYS = 252"
   ]
  },
  {
   "cell_type": "markdown",
   "metadata": {},
   "source": [
    "# Deterministic VaR Calculation\n",
    "\n",
    "For short time horizons er will be small, and therefore VaR estimations will not be much influenced by it.\n",
    "\n",
    "VaR is generally not calculated for a year out, 1 year is too far in the future.\n",
    "\n",
    "Generally users are intereted in the short term, tomorrow, a week.\n",
    "\n",
    "\n",
    "**For this example**\n",
    "\n",
    "- 99% or 95% confidence level\n",
    "- 1 years of trading(252 days)\n",
    "- Horizon of 1 month (21 days)\n"
   ]
  },
  {
   "cell_type": "code",
   "execution_count": null,
   "metadata": {},
   "outputs": [],
   "source": [
    "from scipy.stats import norm\n",
    "\n",
    "cutoff = norm.ppf(CL)\n",
    "VaR = (pv) * vol * np.sqrt(t/TRADING_DAYS) * cutoff\n",
    "\n",
    "print(\"At {:.2f} confidence level, loss will not exceed {:,.2f}\".format(CL, VaR))\n",
    "print(\"This represents a move of {:.2f} standard deviations below the expected return\".format(cutoff))"
   ]
  },
  {
   "cell_type": "markdown",
   "metadata": {},
   "source": [
    "## Refactor into a Function"
   ]
  },
  {
   "cell_type": "code",
   "execution_count": null,
   "metadata": {},
   "outputs": [],
   "source": [
    "import numpy as np\n",
    "from scipy.stats import norm\n",
    "\n",
    "def deterministic_VaR(pv, vol, T, CL):\n",
    "    \n",
    "    cutoff = norm.ppf(CL)\n",
    "    \n",
    "    return pv * vol * np.sqrt(T) * cutoff"
   ]
  },
  {
   "cell_type": "markdown",
   "metadata": {},
   "source": [
    "## Try it out"
   ]
  },
  {
   "cell_type": "code",
   "execution_count": null,
   "metadata": {},
   "outputs": [],
   "source": [
    "VaR = deterministic_VaR(pv = pv, vol = vol, T = t/TRADING_DAYS, CL = CL)\n",
    "\n",
    "display(np.round(VaR,2))"
   ]
  },
  {
   "cell_type": "markdown",
   "metadata": {},
   "source": [
    "# Monte Carlo VaR Calculation\n",
    "\n",
    "This is one of quite a few ways to calcualte this, known as a parameterized method.\n",
    "\n",
    "It uses an underlying distribution that I think the stock market will follow \n",
    "\n",
    "Other approaches might use empirical / historical distributions instead."
   ]
  },
  {
   "cell_type": "markdown",
   "metadata": {},
   "source": [
    "### Download Prices & Calculate volatility"
   ]
  },
  {
   "cell_type": "code",
   "execution_count": null,
   "metadata": {},
   "outputs": [],
   "source": [
    "import yfinance as yf\n",
    "from datetime import datetime, timedelta\n",
    "\n",
    "end_time =  datetime.now()\n",
    "start_time = end_time - timedelta(days=365)\n",
    "\n",
    "end = end_time.strftime(\"%Y-%m-%d\")\n",
    "start = start_time.strftime(\"%Y-%m-%d\")\n",
    "\n",
    "ticker = 'TSLA'\n",
    "\n",
    "# Latest Price\n",
    "prices = yf.download(tickers=ticker, start=start, end=end)[['Adj Close']].copy()\n",
    "\n",
    "# Log returns\n",
    "prices['Log Rets'] = np.log(prices['Adj Close'] / prices['Adj Close'].shift(1))\n",
    "\n",
    "# Dailty std\n",
    "daily_vol = np.std(prices['Log Rets'])\n",
    "\n",
    "# Annualized Volatility\n",
    "vol = daily_vol * TRADING_DAYS ** 0.5\n",
    "\n",
    "print(f'{ticker} Annualized Volatility: {vol:,.2f}')"
   ]
  },
  {
   "cell_type": "markdown",
   "metadata": {},
   "source": [
    "### Latest Price and Expected Return\n",
    "\n",
    "Expected return  - assume 25% but its effect is neglible due to the short term nature of VaR, here its 21 days.\n",
    "\n",
    "Also caluate the exact value of the portfolio "
   ]
  },
  {
   "cell_type": "code",
   "execution_count": null,
   "metadata": {},
   "outputs": [],
   "source": [
    "# Latest Price\n",
    "price = prices['Adj Close'].values[-1:][0]\n",
    "er = 0.25\n",
    "qty = np.round(pv / price, 0)\n",
    "value = qty * price\n",
    "\n",
    "print(f'{ticker} Price: {price:,.2f}')\n",
    "print(f'Quantity: {qty}')\n",
    "print(f'Portfolio Value: {value:,.2f}')\n"
   ]
  },
  {
   "cell_type": "markdown",
   "metadata": {},
   "source": [
    "## Compute VaR using Monte Carlo\n",
    "\n",
    "To directly compare with the deterministic approach above"
   ]
  },
  {
   "cell_type": "code",
   "execution_count": null,
   "metadata": {},
   "outputs": [],
   "source": [
    "def MC_VaR(pv, er, vol, T, iterations):\n",
    "    \n",
    "    end = pv * np.exp((er - .5 * vol ** 2) * T + \n",
    "                     vol * np.sqrt(T) * np.random.standard_normal(iterations))\n",
    "    \n",
    "    ending_values = end - pv\n",
    "    \n",
    "    return ending_values"
   ]
  },
  {
   "cell_type": "code",
   "execution_count": null,
   "metadata": {},
   "outputs": [],
   "source": [
    "iterations = 50000\n",
    "\n",
    "at_risk = MC_VaR(pv=value, er=er, vol=vol, T=t/TRADING_DAYS, iterations=iterations)\n",
    "\n",
    "at_risk"
   ]
  },
  {
   "cell_type": "markdown",
   "metadata": {},
   "source": [
    "## Display the distribution\n",
    "\n",
    "The distribution of possible losses and gains over this month\n",
    "\n",
    "The red, blue and green verticles are the VaR at confidence levels 99%, 95% and 90%"
   ]
  },
  {
   "cell_type": "code",
   "execution_count": null,
   "metadata": {},
   "outputs": [],
   "source": [
    "import seaborn as sns\n",
    "\n",
    "sns.set()\n",
    "\n",
    "ending = at_risk\n",
    "\n",
    "plt.figure(figsize=(12,8))\n",
    "chart = sns.distplot(a = at_risk, bins=100, kde=True)\n",
    "\n",
    "plt.axvline(np.percentile(at_risk, 1), color='r')\n",
    "plt.axvline(np.percentile(at_risk, 5), color='b')\n",
    "plt.axvline(np.percentile(at_risk, 10), color='g')\n",
    "\n",
    "plt.title('Monte Carlo Simulation')\n",
    "plt.xlabel('Final Value ($M)')\n",
    "plt.ylabel('Count of Simulations')\n",
    "\n",
    "plt.savefig('../Output/Monte Carlo 2.png')"
   ]
  },
  {
   "cell_type": "markdown",
   "metadata": {},
   "source": [
    "## Look at some percentiles\n",
    "\n",
    "Compare the potential loss calcualted by Monte Carlo vs its deterministic equivalent"
   ]
  },
  {
   "cell_type": "code",
   "execution_count": null,
   "metadata": {},
   "outputs": [],
   "source": [
    "percentiles = [1,5,10]\n",
    "v99,v95,v90 = np.percentile(at_risk, percentiles) * -1\n",
    "print(f\"At 99% confidence level, loss will not exceed {v99:,.2f}\")\n",
    "print(f\"At 95% confidence level, loss will not exceed {v95:,.2f}\")\n",
    "print(f\"At 90% confidence level, loss will not exceed {v90:,.2f}\")\n",
    "\n"
   ]
  },
  {
   "cell_type": "code",
   "execution_count": null,
   "metadata": {},
   "outputs": [],
   "source": [
    "v99 = deterministic_VaR(pv=value, vol=vol, T = t/TRADING_DAYS, CL = 0.99)\n",
    "v95 = deterministic_VaR(pv=value, vol=vol, T = t/TRADING_DAYS, CL = 0.95)\n",
    "v90 = deterministic_VaR(pv=value, vol=vol, T = t/TRADING_DAYS, CL = 0.90)\n",
    "\n",
    "print(f\"At 99% confidence level, loss will not exceed {v99:,.2f}\")\n",
    "print(f\"At 95% confidence level, loss will not exceed {v95:,.2f}\")\n",
    "print(f\"At 90% confidence level, loss will not exceed {v90:,.2f}\")"
   ]
  },
  {
   "cell_type": "code",
   "execution_count": null,
   "metadata": {},
   "outputs": [],
   "source": []
  },
  {
   "cell_type": "code",
   "execution_count": null,
   "metadata": {},
   "outputs": [],
   "source": []
  },
  {
   "cell_type": "code",
   "execution_count": null,
   "metadata": {},
   "outputs": [],
   "source": []
  },
  {
   "cell_type": "code",
   "execution_count": null,
   "metadata": {},
   "outputs": [],
   "source": []
  },
  {
   "cell_type": "code",
   "execution_count": null,
   "metadata": {},
   "outputs": [],
   "source": []
  },
  {
   "cell_type": "code",
   "execution_count": null,
   "metadata": {},
   "outputs": [],
   "source": []
  },
  {
   "cell_type": "code",
   "execution_count": null,
   "metadata": {},
   "outputs": [],
   "source": []
  },
  {
   "cell_type": "code",
   "execution_count": null,
   "metadata": {},
   "outputs": [],
   "source": []
  }
 ],
 "metadata": {
  "kernelspec": {
   "display_name": "Python 3",
   "language": "python",
   "name": "python3"
  },
  "language_info": {
   "codemirror_mode": {
    "name": "ipython",
    "version": 3
   },
   "file_extension": ".py",
   "mimetype": "text/x-python",
   "name": "python",
   "nbconvert_exporter": "python",
   "pygments_lexer": "ipython3",
   "version": "3.9.7"
  }
 },
 "nbformat": 4,
 "nbformat_minor": 4
}
