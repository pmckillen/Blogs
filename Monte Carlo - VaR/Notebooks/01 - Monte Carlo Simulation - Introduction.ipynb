{
 "cells": [
  {
   "cell_type": "markdown",
   "metadata": {},
   "source": [
    "# Introduction to Monte Carlo Simulations"
   ]
  },
  {
   "cell_type": "markdown",
   "metadata": {},
   "source": [
    "## Retirement Fund\n",
    "\n",
    "Suppose you have a retirement fund currently valued at $100,000 invested in the S&P500 ETF. \n",
    "\n",
    "You plan to retire in 30 years.\n",
    "\n",
    "How much should you expect to have in your retirement account\n"
   ]
  },
  {
   "cell_type": "markdown",
   "metadata": {},
   "source": [
    "## Some global variables"
   ]
  },
  {
   "cell_type": "code",
   "execution_count": null,
   "metadata": {},
   "outputs": [],
   "source": [
    "present_value = 100000\n",
    "expected_return = .095\n",
    "time_horizon = 30\n"
   ]
  },
  {
   "cell_type": "markdown",
   "metadata": {},
   "source": [
    "# Deterministic Approach\n",
    "\n",
    "e.g. a fixed rate of return of 9.5% for 30 years"
   ]
  },
  {
   "cell_type": "code",
   "execution_count": null,
   "metadata": {},
   "outputs": [],
   "source": [
    "def compound(principal, rate, time, n = 1):\n",
    "    return principal * (1 + rate/n) ** (time*n)\n",
    "\n",
    "ending_balance = compound(present_value, expected_return, time_horizon)\n",
    "\n",
    "print(\"{:,.0f}\".format(ending_balance))"
   ]
  },
  {
   "cell_type": "markdown",
   "metadata": {},
   "source": [
    "To produce a year on year table showing the nature of compound interest"
   ]
  },
  {
   "cell_type": "code",
   "execution_count": null,
   "metadata": {},
   "outputs": [],
   "source": [
    "ending_balance = 0\n",
    "curr_balance = present_value\n",
    "\n",
    "print(\"{:10s} {:15s}\".format(\"Year\", \"Ending Balance\"))\n",
    "print(\"-\" * 26)\n",
    "for year in range(1, time_horizon + 1):\n",
    "    ending_balance = curr_balance * (1 + expected_return)\n",
    "    print(\"{:<10d} {:15,.0f}\".format(year, ending_balance))\n",
    "    curr_balance = ending_balance\n"
   ]
  },
  {
   "cell_type": "markdown",
   "metadata": {},
   "source": [
    "## Non Deterministic Approach\n",
    "\n",
    "But can we reliably earn 9.5% every year?\n",
    "\n",
    "We need to incorporate volatility, e.g. 18.5\n"
   ]
  },
  {
   "cell_type": "code",
   "execution_count": null,
   "metadata": {},
   "outputs": [],
   "source": [
    "import numpy.random as npr\n",
    "\n",
    "volatility = .185\n",
    "\n",
    "ending_balance = 0\n",
    "curr_balance = present_value\n",
    "\n",
    "print(\"{:10s}  {:15s}\".format(\"Year\", \"Ending Balance\"))\n",
    "print(\"-\" * 26)\n",
    "\n",
    "for year in range(1,time_horizon + 1):\n",
    "    year_return = npr.normal(expected_return, volatility)\n",
    "    ending_balance = curr_balance * (1 + year_return)\n",
    "    print(\"{:<10d} {:>15,.0f}\".format(year, ending_balance))\n",
    "    curr_balance = ending_balance"
   ]
  },
  {
   "cell_type": "markdown",
   "metadata": {},
   "source": [
    "## Which one to choose\n",
    "\n",
    "No right answer. \n",
    "\n",
    "What can be done is to run the above simulation many times and to get an idea of the types of expected returns.\n",
    "\n",
    "e.g. run for 50,000 iterations\n",
    "\n",
    "This allows us to make probability statements about how such an investment will perform"
   ]
  },
  {
   "cell_type": "markdown",
   "metadata": {},
   "source": [
    "# Monte Carlo Simulation\n",
    "\n",
    "For the same scenario above\n",
    "> <BR>\n",
    "> $100,000 initial investment <BR>\n",
    "> 9.5% expected return <BR>\n",
    "> 18.5% volatility <BR>\n",
    "> 30 year time frame (horizon) <BR>\n",
    "> <BR>\n",
    "\n",
    "But run **50,000** simulations"
   ]
  },
  {
   "cell_type": "code",
   "execution_count": null,
   "metadata": {},
   "outputs": [],
   "source": [
    "import numpy as np\n",
    "import numpy.random as npr\n",
    "import pandas as pd\n",
    "import matplotlib.pyplot as plt\n",
    "import seaborn as sns\n",
    "\n",
    "pd.options.display.float_format = '{:,.2f}'.format\n",
    "np.set_printoptions(precision=2)\n",
    "\n",
    "sns.set()\n",
    "%matplotlib inline"
   ]
  },
  {
   "cell_type": "code",
   "execution_count": null,
   "metadata": {},
   "outputs": [],
   "source": [
    "iterations = 50000\n",
    "starting = present_value\n",
    "ending = 0\n"
   ]
  },
  {
   "cell_type": "markdown",
   "metadata": {},
   "source": [
    "Create a 2 dimensional array (iterations, horizon) to store the results\n",
    "\n",
    "i.e. 50,000 iterations with 1 column for each year"
   ]
  },
  {
   "cell_type": "code",
   "execution_count": null,
   "metadata": {},
   "outputs": [],
   "source": [
    "returns = np.zeros((iterations, time_horizon))"
   ]
  },
  {
   "cell_type": "markdown",
   "metadata": {},
   "source": [
    "Run 50,000 times"
   ]
  },
  {
   "cell_type": "code",
   "execution_count": null,
   "metadata": {},
   "outputs": [],
   "source": [
    "for t in range(iterations):\n",
    "    for year in range(time_horizon):\n",
    "        returns[t][year] = npr.normal(expected_return, volatility)"
   ]
  },
  {
   "cell_type": "code",
   "execution_count": null,
   "metadata": {},
   "outputs": [],
   "source": [
    "# look at a random simulation\n",
    "returns[42]        "
   ]
  },
  {
   "cell_type": "markdown",
   "metadata": {},
   "source": [
    "## Compute Values\n",
    "\n",
    "Same structure as above but calcualting the value rather than the return"
   ]
  },
  {
   "cell_type": "code",
   "execution_count": null,
   "metadata": {},
   "outputs": [],
   "source": [
    "portfolio = np.zeros((iterations, time_horizon))\n",
    "for iteration in range(iterations):\n",
    "    latest = starting\n",
    "    for year in range(time_horizon):\n",
    "        ending = latest * (1 + returns[iteration,year])\n",
    "        portfolio[iteration,year] = ending\n",
    "        latest = ending"
   ]
  },
  {
   "cell_type": "code",
   "execution_count": null,
   "metadata": {},
   "outputs": [],
   "source": [
    "# Pick one at random\n",
    "portfolio[42]"
   ]
  },
  {
   "cell_type": "markdown",
   "metadata": {},
   "source": [
    "## Reshape the data\n",
    "\n",
    "Change the portfolio into a DataFrame\n",
    "\n",
    "Transpose to easier understand the data"
   ]
  },
  {
   "cell_type": "code",
   "execution_count": null,
   "metadata": {},
   "outputs": [],
   "source": [
    "portfolio = pd.DataFrame(portfolio).transpose()\n",
    "\n",
    "display(portfolio[list(range(5))].head())\n",
    "\n",
    "display(portfolio[list(range(5))].tail())"
   ]
  },
  {
   "cell_type": "code",
   "execution_count": null,
   "metadata": {},
   "outputs": [],
   "source": [
    "display(pd.concat(objs=[portfolio[list(range(5))].head(3), portfolio[list(range(5))].tail(3)]))"
   ]
  },
  {
   "cell_type": "markdown",
   "metadata": {},
   "source": [
    "## Look at final year only\n",
    "\n",
    "Notice the mean is pretty close to the deterministic approach.\n",
    "\n",
    "But notice the max and min, std and the various percentiles\n",
    "\n"
   ]
  },
  {
   "cell_type": "code",
   "execution_count": null,
   "metadata": {},
   "outputs": [],
   "source": [
    "portfolio.iloc[29].describe()"
   ]
  },
  {
   "cell_type": "markdown",
   "metadata": {},
   "source": [
    "## Visualize\n",
    "\n",
    "The vertical red line is the portfolio at the 50th percentile - considerably lower in value that the mean portfolio. \n",
    "\n",
    "The overall distribution is lognormal."
   ]
  },
  {
   "cell_type": "code",
   "execution_count": null,
   "metadata": {},
   "outputs": [],
   "source": [
    "final_year = portfolio.iloc[29]\n",
    "\n",
    "# Filter out portfolios with final value > $10M\n",
    "lt_10M = final_year < 10 * 1000 * 1000\n",
    "\n",
    "fig, ax = plt.subplots(figsize=(12,8))\n",
    "\n",
    "chart = sns.histplot(data = final_year[lt_10M], bins=100, kde=True)\n",
    "chart.set_xticks([x*1000*1000 for x in range(0,10)])\n",
    "chart.set_xticklabels([f\"{x}\" for x in range(0,10)])\n",
    "\n",
    "plt.axvline(final_year[lt_10M].median(), color='r')\n",
    "\n",
    "plt.title('Monte Carlo Simulation - $100,000 invested for 30yrs -- expected return 9.5%, volatility 18.5%')\n",
    "plt.xlabel('Final Value ($M)')\n",
    "plt.ylabel('Count of Simulations');\n",
    "\n",
    "plt.savefig('Monte Carlo 1.png')"
   ]
  },
  {
   "cell_type": "markdown",
   "metadata": {},
   "source": [
    "## Make some statements\n",
    "\n",
    "For example\n",
    "the minimum values at the "
   ]
  },
  {
   "cell_type": "code",
   "execution_count": null,
   "metadata": {},
   "outputs": [],
   "source": [
    "percentiles = [1,5,10]\n",
    "v99,v95,v90 = np.percentile(final_year, percentiles)\n",
    "\n",
    "print(f'There is a 99% chance that the investment will be at least {v99:,.0f} at maturity')\n",
    "print(f'There is a 95% chance that the investment will be at least {v95:,.0f} at maturity')\n",
    "print(f'There is a 90% chance that the investment will be at least {v90:,.0f} at maturity')"
   ]
  },
  {
   "cell_type": "code",
   "execution_count": null,
   "metadata": {},
   "outputs": [],
   "source": []
  },
  {
   "cell_type": "code",
   "execution_count": null,
   "metadata": {},
   "outputs": [],
   "source": []
  },
  {
   "cell_type": "code",
   "execution_count": null,
   "metadata": {},
   "outputs": [],
   "source": []
  }
 ],
 "metadata": {
  "kernelspec": {
   "display_name": "Python 3",
   "language": "python",
   "name": "python3"
  },
  "language_info": {
   "codemirror_mode": {
    "name": "ipython",
    "version": 3
   },
   "file_extension": ".py",
   "mimetype": "text/x-python",
   "name": "python",
   "nbconvert_exporter": "python",
   "pygments_lexer": "ipython3",
   "version": "3.9.7"
  }
 },
 "nbformat": 4,
 "nbformat_minor": 4
}
