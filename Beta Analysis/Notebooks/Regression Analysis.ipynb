{
 "cells": [
  {
   "cell_type": "markdown",
   "metadata": {},
   "source": [
    "# Overview\n",
    "\n"
   ]
  },
  {
   "cell_type": "markdown",
   "metadata": {},
   "source": [
    "# Load Dependencies\n",
    "\n"
   ]
  },
  {
   "cell_type": "code",
   "execution_count": null,
   "metadata": {},
   "outputs": [],
   "source": [
    "import pandas as pd\n",
    "import numpy as np\n",
    "import yfinance as yf\n",
    "import matplotlib.pyplot as plt\n",
    "import seaborn as sns\n",
    "\n",
    "from datetime import datetime, timedelta\n",
    "\n",
    "pd.options.display.float_format = '{:,.2f}'.format"
   ]
  },
  {
   "cell_type": "markdown",
   "metadata": {},
   "source": [
    "# Import Stock Prices\n",
    "\n",
    "**Halliburton - HAL**<BR>\n",
    "> an American multinational corporation<BR>\n",
    "> one of the world's largest oil field service companies<BR>\n",
    "> operations in more than 70 countries<BR>\n"
   ]
  },
  {
   "cell_type": "code",
   "execution_count": null,
   "metadata": {},
   "outputs": [],
   "source": [
    "df_HAL = pd.read_csv(filepath_or_buffer='../Data/HAL.csv', \n",
    "                     parse_dates=True,\n",
    "                     index_col='Date')\n",
    "\n",
    "df_HAL.head()\n"
   ]
  },
  {
   "cell_type": "markdown",
   "metadata": {},
   "source": [
    "# Import a basket of Indices & Futures\n",
    "\n",
    "**Index - SP500**<BR>\n",
    "> a stock market index tracking the performance of 500 large companies listed on stock exchanges in the United States. <BR>\n",
    "> one of the most commonly followed equity indices<BR>\n",
    "> as of December 31, 2020, more than $5.4 trillion was invested in assets tied to the performance of the index\n",
    "\n",
    "\n",
    "**Commodities Futures - OIl, Gold, Natural Gas**\n",
    "> contracts between buyers and sellers that trade on exchanges<BR>\n",
    "> Oil Futures<BR>\n",
    "> Gold Futures<BR>\n",
    "> Natural Gas Futures<BR>\n",
    "\n"
   ]
  },
  {
   "cell_type": "code",
   "execution_count": null,
   "metadata": {},
   "outputs": [],
   "source": [
    "df_basket = pd.read_csv(filepath_or_buffer='../Data/basket.csv',\n",
    "                       parse_dates=True,\n",
    "                       index_col='Date')\n",
    "\n",
    "df_basket.head()"
   ]
  },
  {
   "cell_type": "markdown",
   "metadata": {},
   "source": [
    "# Concatenate HAL and Basket \n",
    "\n",
    "For convenience, concatenate HAL and derivs into a single DataFrame"
   ]
  },
  {
   "cell_type": "code",
   "execution_count": null,
   "metadata": {},
   "outputs": [],
   "source": [
    "df = pd.concat(objs = [df_HAL, df_basket], axis = 1)\n",
    "\n",
    "df.head()"
   ]
  },
  {
   "cell_type": "markdown",
   "metadata": {},
   "source": [
    "# Correlate returns of HAL against Index and Futures\n",
    "\n",
    "Use the `pct_change()` Dataframe method\n"
   ]
  },
  {
   "cell_type": "code",
   "execution_count": null,
   "metadata": {},
   "outputs": [],
   "source": [
    "df = df.pct_change()\n",
    "\n",
    "df.head()"
   ]
  },
  {
   "cell_type": "code",
   "execution_count": null,
   "metadata": {},
   "outputs": [],
   "source": [
    "df.corr()"
   ]
  },
  {
   "cell_type": "markdown",
   "metadata": {},
   "source": [
    "# Produce a Heatmap"
   ]
  },
  {
   "cell_type": "markdown",
   "metadata": {},
   "source": [
    "## Simple Heatmap"
   ]
  },
  {
   "cell_type": "code",
   "execution_count": null,
   "metadata": {},
   "outputs": [],
   "source": [
    "plt.figure(figsize=(16, 6))\n",
    "\n",
    "# define the mask to set the values in the upper triangle to True\n",
    "sns.heatmap(df.corr(), annot=True);\n"
   ]
  },
  {
   "cell_type": "markdown",
   "metadata": {},
   "source": [
    "## Triangle Correlation Heatmap"
   ]
  },
  {
   "cell_type": "code",
   "execution_count": null,
   "metadata": {},
   "outputs": [],
   "source": [
    "plt.figure(figsize=(16, 6))\n",
    "\n",
    "# define the mask to set the values in the upper triangle to True\n",
    "mask = np.triu(np.ones_like(df.corr(), dtype=np.bool))\n",
    "\n",
    "heatmap = sns.heatmap(df.corr(), mask=mask, annot=True)"
   ]
  },
  {
   "cell_type": "markdown",
   "metadata": {},
   "source": [
    "# Regression Analysis\n",
    "\n",
    "Regression is an econometric method that allows a user to attempt to see what variables drive another variable.  Regression analysis calculates a number of important values\n",
    "\n",
    "**Beta, Significance & P-Values**\n",
    "\n",
    "A **beta** is what a 1-unit increase in the specific variable does to the dependent variable.\n",
    "For example a .5 beta means that if a variable is increased by 1, the dependent variable would be expected to go up by 0.5. \n",
    "\n",
    "**Significance** measures the probability that a particular variable's value was a random occurrence.\n",
    "For example, a significance factor of 0.05 means there was a 5% chance that this was a random event, 0.01 means a 1% chance, and so on. \n",
    "\n",
    "A **p-value** is used to provide the smallest level of significance at which the null hypothesis would be rejected.\n",
    "\n",
    "Beta, Significance and p-values are important because they are indicators to users about what is significant.\n",
    "\n",
    "For example, we might expect that gold prices effect all stocks. However, when we control for the market (by using SPY) we notice that the reason gold is correlated with all these stocks is because it is also correlated with the market! This gives us better precision since we see which firms really get effected by gold versus which just get effected by the overall market environment.\n",
    "\n",
    "A very accurate regression analysis is performed using the statsmodels OLS function (ordinary least squares). The formula parameter sets the dependent variable and the matrix of factors. <br><br>\n",
    "> `HAL` **~** `SP500 + Oil + Gold + Gas`<br>\n",
    "\n",
    "In the above expression<br>\n",
    "> `HAL` is the dependent variable <br>\n",
    "> `SP500 + Oil + Gold + Gas` are the set of features in the model.\n"
   ]
  },
  {
   "cell_type": "code",
   "execution_count": null,
   "metadata": {},
   "outputs": [],
   "source": [
    "# Create a regression model\n",
    "import statsmodels.formula.api as smf\n",
    "\n",
    "model = smf.ols(formula=\"HAL ~ SP500 + Oil + Gold + Gas\", data=df)\n",
    "\n",
    "# fit the model\n",
    "result = model.fit()\n",
    "\n",
    "# Prouduce the regression report\n",
    "result.summary()\n"
   ]
  },
  {
   "cell_type": "code",
   "execution_count": null,
   "metadata": {},
   "outputs": [],
   "source": [
    "print(result.summary())"
   ]
  },
  {
   "cell_type": "code",
   "execution_count": null,
   "metadata": {},
   "outputs": [],
   "source": [
    "# display all p-values\n",
    "result.pvalues "
   ]
  },
  {
   "cell_type": "code",
   "execution_count": null,
   "metadata": {},
   "outputs": [],
   "source": [
    "# display all p-values < 0.05\n",
    "result.pvalues < .05\n"
   ]
  },
  {
   "cell_type": "code",
   "execution_count": null,
   "metadata": {},
   "outputs": [],
   "source": [
    "# display the `features` less than 0.05\n",
    "is_significant = result.pvalues < .05\n",
    "result.params[is_significant]"
   ]
  },
  {
   "cell_type": "markdown",
   "metadata": {},
   "source": [
    "**Note the following**<br>\n",
    "\n",
    "1) The values below will change when the dates change\n",
    "1) 2 factors have a p-value  (**P>|t|**) < 0.05 : SP500 and Oil<br>\n",
    "Given that PXD is an oil exploration company, it's daily returns follow very closely the returns of both the SP500 index and the price of Oil.\n",
    "\n",
    "2) The HAL beta for stock market returns is relatively high at approx 0.95, and Oil has a beta of approx 0.75. This means that for every 1% change in the price of oil, users can expect a 0.75% change in the price of the HAL stock. \n",
    "\n",
    "3) Another way of thinking of this is \n",
    "> HAL = `(0.95 X SPY) + (0.75X Oil)`\n",
    "\n",
    "We can turn then above statements into a function."
   ]
  },
  {
   "cell_type": "code",
   "execution_count": null,
   "metadata": {},
   "outputs": [],
   "source": [
    "def regress(ticker, df, p_threshold=0.05):\n",
    "    \n",
    "    formula = f'{ticker} ~ SP500 + Oil + Gold + Gas'\n",
    "    \n",
    "    fitted = smf.ols(data=df, formula=formula).fit()\n",
    "    \n",
    "    return fitted.params[fitted.pvalues < p_threshold].rename(ticker)\n",
    "\n"
   ]
  },
  {
   "cell_type": "markdown",
   "metadata": {},
   "source": [
    "## Extract Data from the report\n",
    "\n",
    "Use the `regress()` function to\n",
    "- display the report\n",
    "- display only the p-values\n",
    "- display only the p-values less than 0.05\n",
    "\n",
    "And most importantly, use the params attribute of the OLS report to display the `features` less than 0.05\n",
    "\n"
   ]
  },
  {
   "cell_type": "code",
   "execution_count": null,
   "metadata": {},
   "outputs": [],
   "source": [
    "# run the regression\n",
    "result = regress(\"HAL\", df)\n",
    "\n",
    "# Create a DataFrame\n",
    "df_regress = pd.DataFrame(data = result)\n",
    "\n",
    "df_regress"
   ]
  },
  {
   "cell_type": "markdown",
   "metadata": {},
   "source": [
    "# Perform this analysis for any abritrary stock\n",
    "\n",
    "Rather than importing a single stock data, we can easily import all stock data for all companies in the SP500 index. \n",
    "We will follow the same “pattern”:\n",
    "- Load a DataFrame that represents the basket.\n",
    "- Load a DataFrame of all SP500 stocks.\n",
    "- Calculate the daily returns and concatenate both DataFrames.\n",
    "- Calculate the Betas for ALL stocks when regressions are performed against the basket.\n",
    "- Save the results to a Spreadsheet.\n",
    "\n",
    "The first 3 steps are:"
   ]
  },
  {
   "cell_type": "code",
   "execution_count": null,
   "metadata": {},
   "outputs": [],
   "source": [
    "# Load in the Stock Prices\n",
    "df_stocks = pd.read_csv(filepath_or_buffer = '../Data/prices.csv',\n",
    "                        parse_dates=True,\n",
    "                        index_col='Date').pct_change()\n",
    "\n",
    "# Load in the basket\n",
    "df_basket = pd.read_csv(filepath_or_buffer='../Data/basket.csv',\n",
    "                        parse_dates=True,\n",
    "                        index_col='Date')\n",
    "\n",
    "\n",
    "df_returns = df_stocks.join(df_basket.pct_change(), how='inner')\n",
    "\n",
    "df_returns.shape"
   ]
  },
  {
   "cell_type": "markdown",
   "metadata": {},
   "source": [
    "## Calculate Betas for ALL stocks with p-value < 0.05\n",
    "\n",
    "\n",
    "A very simple loop achieves this.<br>\n",
    "\n",
    "**Note**<br>\n",
    "1) the slice `f_returns.columns[:-4]` returns all BUT the last 4 columns as the last 4 columns are our basket.\n",
    "\n",
    "2) We are progressively appending the results of the regression into a single list with each element of the list containing a series of results\n"
   ]
  },
  {
   "cell_type": "markdown",
   "metadata": {},
   "source": [
    "## Using a simple loop\n",
    "\n",
    "For the more empirical programmer"
   ]
  },
  {
   "cell_type": "code",
   "execution_count": null,
   "metadata": {},
   "outputs": [],
   "source": [
    "results = []\n",
    "for tick in df_returns.columns[:-4]:\n",
    "    results.append(regress(ticker=tick, df=df_returns))\n",
    "    "
   ]
  },
  {
   "cell_type": "markdown",
   "metadata": {},
   "source": [
    "## Using a comprehension\n",
    "\n",
    "An alternate way to create a list of results, for the pythonistas who like one-liners"
   ]
  },
  {
   "cell_type": "code",
   "execution_count": null,
   "metadata": {},
   "outputs": [],
   "source": [
    "results = [regress(ticker=tick, df=df_returns) for tick in df_returns.columns[:-4]]\n",
    "\n"
   ]
  },
  {
   "cell_type": "markdown",
   "metadata": {},
   "source": [
    "## Display a few rows\n",
    "\n",
    "First and last"
   ]
  },
  {
   "cell_type": "code",
   "execution_count": null,
   "metadata": {},
   "outputs": [],
   "source": [
    "display(results[0])\n",
    "display(results[len(results)-1])\n"
   ]
  },
  {
   "cell_type": "markdown",
   "metadata": {},
   "source": [
    "# Create a Dataframe from the results"
   ]
  },
  {
   "cell_type": "code",
   "execution_count": null,
   "metadata": {},
   "outputs": [],
   "source": [
    "df_all_Betas = pd.DataFrame(data=results)\n",
    "\n",
    "df_all_Betas.head()"
   ]
  },
  {
   "cell_type": "markdown",
   "metadata": {},
   "source": [
    "## Export the DataFrame to a Spreadsheet\n",
    "\n",
    "Using the python resource manager syntax\n"
   ]
  },
  {
   "cell_type": "code",
   "execution_count": null,
   "metadata": {},
   "outputs": [],
   "source": [
    "# Create a writer\n",
    "with pd.ExcelWriter('../Output/BasketBetas.xlsx') as writer:\n",
    "    \n",
    "    # All Betas\n",
    "    df_all_Betas.to_excel(writer, sheet_name='Betas')\n",
    "    \n",
    "    # Transposed\n",
    "    df_all_Betas.transpose().to_excel(writer, sheet_name='Tposed')\n",
    "    \n",
    "    # Sorted by SP500 with Nulls filtered out\n",
    "    df_out = df_all_Betas[df_all_Betas['SP500'].notnull()].sort_values(by='SP500', ascending=False)\n",
    "    df_out.to_excel(writer, sheet_name='SP500')\n",
    "    \n",
    "    # Sorted by Oil with Nulls filtered out\n",
    "    df_out = df_all_Betas[df_all_Betas['Oil'].notnull()].sort_values(by='Oil', ascending=False)\n",
    "    df_out.to_excel(writer, sheet_name='Oil')\n",
    "    \n",
    "    # Sorted by Oil with Nulls filtered out\n",
    "    df_out = df_all_Betas[df_all_Betas['Gold'].notnull()].sort_values(by='Gold', ascending=False)\n",
    "    df_out.to_excel(writer, sheet_name='Gold')\n",
    "    \n",
    "    # Sorted by Oil with Nulls filtered out\n",
    "    df_out = df_all_Betas[df_all_Betas['Gas'].notnull()].sort_values(by='Gas', ascending=False)\n",
    "    df_out.to_excel(writer, sheet_name='Gas')\n",
    "    "
   ]
  },
  {
   "cell_type": "code",
   "execution_count": null,
   "metadata": {},
   "outputs": [],
   "source": [
    "df_all_Betas[df_all_Betas['SP500'].notnull()].sort_values(by='SP500', ascending=False).head()"
   ]
  },
  {
   "cell_type": "code",
   "execution_count": null,
   "metadata": {},
   "outputs": [],
   "source": [
    "df_all_Betas[df_all_Betas['Oil'].notnull()].sort_values(by='Oil', ascending=False).head()"
   ]
  },
  {
   "cell_type": "code",
   "execution_count": null,
   "metadata": {},
   "outputs": [],
   "source": [
    "df_all_Betas[df_all_Betas['Gold'].notnull()].sort_values(by='Gold', ascending=False).head()"
   ]
  },
  {
   "cell_type": "code",
   "execution_count": null,
   "metadata": {},
   "outputs": [],
   "source": [
    "df_all_Betas[df_all_Betas['Gold'].notnull()].sort_values(by='Gold', ascending=True).head()"
   ]
  },
  {
   "cell_type": "code",
   "execution_count": null,
   "metadata": {},
   "outputs": [],
   "source": [
    "df_all_Betas[df_all_Betas['Gas'].notnull()].sort_values(by='Gas', ascending=False).head()"
   ]
  },
  {
   "cell_type": "code",
   "execution_count": null,
   "metadata": {},
   "outputs": [],
   "source": []
  },
  {
   "cell_type": "code",
   "execution_count": null,
   "metadata": {},
   "outputs": [],
   "source": []
  },
  {
   "cell_type": "code",
   "execution_count": null,
   "metadata": {},
   "outputs": [],
   "source": []
  },
  {
   "cell_type": "code",
   "execution_count": null,
   "metadata": {},
   "outputs": [],
   "source": []
  }
 ],
 "metadata": {
  "kernelspec": {
   "display_name": "Python 3",
   "language": "python",
   "name": "python3"
  },
  "language_info": {
   "codemirror_mode": {
    "name": "ipython",
    "version": 3
   },
   "file_extension": ".py",
   "mimetype": "text/x-python",
   "name": "python",
   "nbconvert_exporter": "python",
   "pygments_lexer": "ipython3",
   "version": "3.9.7"
  }
 },
 "nbformat": 4,
 "nbformat_minor": 4
}
