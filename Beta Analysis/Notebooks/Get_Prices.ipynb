{
 "cells": [
  {
   "cell_type": "markdown",
   "metadata": {},
   "source": [
    "# Load Dependencies\n",
    "\n",
    "May require `pip install yfinance`"
   ]
  },
  {
   "cell_type": "code",
   "execution_count": null,
   "metadata": {},
   "outputs": [],
   "source": [
    "import yfinance as yf\n",
    "import pandas as pd\n",
    "import time\n",
    "\n",
    "from datetime import datetime, timedelta"
   ]
  },
  {
   "cell_type": "markdown",
   "metadata": {},
   "source": [
    "# Get list of tickers\n",
    "\n",
    "Use pandas.read_html to read all HTML tables on a page and return a list of Dataframes, one Dataframe per table.\n",
    "\n",
    "Using a page from Wikipedia to source the symbols of the sp500"
   ]
  },
  {
   "cell_type": "code",
   "execution_count": null,
   "metadata": {},
   "outputs": [],
   "source": [
    "sp500 = pd.read_html('https://en.wikipedia.org/wiki/List_of_S%26P_500_companies')[0]\n",
    "\n",
    "symbols = list(sp500['Symbol'])\n",
    "\n"
   ]
  },
  {
   "cell_type": "markdown",
   "metadata": {},
   "source": [
    "# Download Prices\n",
    "\n",
    "Use the yfinance package to download 1 years worth of data from yahoo finance for every symbol in SP500.\n",
    "\n",
    "The only "
   ]
  },
  {
   "cell_type": "code",
   "execution_count": null,
   "metadata": {},
   "outputs": [],
   "source": [
    "nd = datetime.now()\n",
    "st = nd - timedelta(days=365)\n",
    "cols = ['Adj Close']\n",
    "\n",
    "df_prices = yf.download(tickers=symbols, start = st, end = nd)[cols]\n",
    "\n",
    "\n",
    "# Display a few rows and columns\n",
    "df_prices.iloc[:5, :5]"
   ]
  },
  {
   "cell_type": "markdown",
   "metadata": {},
   "source": [
    "## Drop the top level index\n",
    "\n",
    "The `Adj Close` component from the columns can be removed."
   ]
  },
  {
   "cell_type": "code",
   "execution_count": null,
   "metadata": {},
   "outputs": [],
   "source": [
    "df_prices.shape"
   ]
  },
  {
   "cell_type": "code",
   "execution_count": null,
   "metadata": {},
   "outputs": [],
   "source": [
    "df_prices = df_prices.droplevel(level=0, axis=1)\n",
    "\n",
    "# Display a few rows and columns\n",
    "df_prices.iloc[:5, :15]"
   ]
  },
  {
   "cell_type": "markdown",
   "metadata": {},
   "source": [
    "## Drop NAs"
   ]
  },
  {
   "cell_type": "code",
   "execution_count": null,
   "metadata": {},
   "outputs": [],
   "source": [
    "df_prices.drop(labels=['BF.B','BRK.B'], axis=1, inplace=True)\n",
    "\n",
    "df_prices.shape"
   ]
  },
  {
   "cell_type": "markdown",
   "metadata": {},
   "source": [
    "## Export to a csv"
   ]
  },
  {
   "cell_type": "code",
   "execution_count": null,
   "metadata": {},
   "outputs": [],
   "source": [
    "df_prices.to_csv(path_or_buf='../Data/prices.csv',float_format=\"%.2f\")"
   ]
  },
  {
   "cell_type": "markdown",
   "metadata": {},
   "source": [
    "# Download HAL"
   ]
  },
  {
   "cell_type": "code",
   "execution_count": null,
   "metadata": {},
   "outputs": [],
   "source": [
    "df_HAL = yf.download(tickers='HAL', start = st, end = nd)[cols]\n",
    "\n",
    "# Renaming columns to something more readable\n",
    "df_HAL = df_HAL.rename(columns = {'Adj Close':'HAL'})\n",
    "\n",
    "df_HAL.to_csv(path_or_buf='../Data/HAL.csv',float_format=\"%.2f\")\n"
   ]
  },
  {
   "cell_type": "markdown",
   "metadata": {},
   "source": [
    "# Download Basket"
   ]
  },
  {
   "cell_type": "code",
   "execution_count": null,
   "metadata": {},
   "outputs": [],
   "source": [
    "tickers = '^GSPC CL=F GC=F NG=F '.split()\n",
    "names = 'SP500 Oil Gold Gas'.split()\n",
    "\n",
    "df_basket = yf.download(tickers=tickers, start = st, end = nd)['Adj Close']\n",
    "\n",
    "# Renaming columns to something more readable\n",
    "df_basket = df_basket.rename(columns = dict(zip(tickers, names)))\n",
    "\n",
    "df_basket.to_csv(path_or_buf='../Data/basket.csv',float_format=\"%.2f\")"
   ]
  },
  {
   "cell_type": "code",
   "execution_count": null,
   "metadata": {},
   "outputs": [],
   "source": []
  },
  {
   "cell_type": "code",
   "execution_count": null,
   "metadata": {},
   "outputs": [],
   "source": []
  }
 ],
 "metadata": {
  "kernelspec": {
   "display_name": "Python 3",
   "language": "python",
   "name": "python3"
  },
  "language_info": {
   "codemirror_mode": {
    "name": "ipython",
    "version": 3
   },
   "file_extension": ".py",
   "mimetype": "text/x-python",
   "name": "python",
   "nbconvert_exporter": "python",
   "pygments_lexer": "ipython3",
   "version": "3.9.7"
  }
 },
 "nbformat": 4,
 "nbformat_minor": 4
}
